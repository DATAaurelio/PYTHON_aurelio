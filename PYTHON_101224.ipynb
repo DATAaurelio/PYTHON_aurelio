{
 "cells": [
  {
   "cell_type": "code",
   "execution_count": 5,
   "metadata": {},
   "outputs": [
    {
     "name": "stdout",
     "output_type": "stream",
     "text": [
      "True\n",
      "False\n"
     ]
    }
   ],
   "source": [
    "def es_palindromo(palabra):\n",
    "    palabra = palabra.lower().replace(\" \", \"\")  # Convertir a minúsculas y eliminar espacios\n",
    "    return palabra == palabra[::-1]\n",
    "\n",
    "# Ejemplo de uso\n",
    "print(es_palindromo(\"reconocer\"))  # True\n",
    "print(es_palindromo(\"Hola\"))      # False"
   ]
  },
  {
   "cell_type": "code",
   "execution_count": 4,
   "metadata": {},
   "outputs": [
    {
     "name": "stdout",
     "output_type": "stream",
     "text": [
      "3\n",
      "0\n"
     ]
    }
   ],
   "source": [
    "def contar_impares(numeros):\n",
    "    return sum(1 for num in numeros if num % 2 != 0)\n",
    "\n",
    "# Ejemplo de uso\n",
    "print(contar_impares([1, 2, 3, 4, 5]))  # 3\n",
    "print(contar_impares([2, 4, 6, 8]))     # 0\n"
   ]
  },
  {
   "cell_type": "code",
   "execution_count": 3,
   "metadata": {},
   "outputs": [
    {
     "name": "stdout",
     "output_type": "stream",
     "text": [
      "[{'nombre': 'aNa', 'direccion': 'Calle 1', 'edad': 20}, {'nombre': 'peDro', 'direccion': 'Calle 2', 'edad': 22}, {'nombre': 'luCia', 'direccion': 'Calle 3', 'edad': 19}]\n"
     ]
    }
   ],
   "source": [
    "def transformar_letra_intermedia(alumnos):\n",
    "    def transformar_nombre(nombre):\n",
    "        nombre = nombre.lower()\n",
    "        index = len(nombre) // 2  # Encuentra la posición de la letra intermedia\n",
    "        return nombre[:index] + nombre[index].upper() + nombre[index+1:]\n",
    "    \n",
    "    for alumno in alumnos:\n",
    "        alumno[\"nombre\"] = transformar_nombre(alumno[\"nombre\"])\n",
    "    return alumnos\n",
    "\n",
    "# Ejemplo de uso\n",
    "alumnos = [\n",
    "    {\"nombre\": \"ana\", \"direccion\": \"Calle 1\", \"edad\": 20},\n",
    "    {\"nombre\": \"pedro\", \"direccion\": \"Calle 2\", \"edad\": 22},\n",
    "    {\"nombre\": \"lucia\", \"direccion\": \"Calle 3\", \"edad\": 19},\n",
    "]\n",
    "\n",
    "print(transformar_letra_intermedia(alumnos))\n"
   ]
  },
  {
   "cell_type": "code",
   "execution_count": 2,
   "metadata": {},
   "outputs": [
    {
     "name": "stdout",
     "output_type": "stream",
     "text": [
      "Nombres y Direcciones: [('ana', 'Calle 1'), ('pedro', 'Calle 2'), ('lucia', 'Calle 3')]\n",
      "Nombres y Edades: [('ana', 20), ('pedro', 22), ('lucia', 19)]\n"
     ]
    }
   ],
   "source": [
    "def transformar_alumnos(alumnos):\n",
    "    nombres_direcciones = [(alumno[\"nombre\"], alumno[\"direccion\"]) for alumno in alumnos]\n",
    "    nombres_edades = [(alumno[\"nombre\"], alumno[\"edad\"]) for alumno in alumnos]\n",
    "    return nombres_direcciones, nombres_edades\n",
    "\n",
    "# Ejemplo de uso\n",
    "alumnos = [\n",
    "    {\"nombre\": \"ana\", \"direccion\": \"Calle 1\", \"edad\": 20},\n",
    "    {\"nombre\": \"pedro\", \"direccion\": \"Calle 2\", \"edad\": 22},\n",
    "    {\"nombre\": \"lucia\", \"direccion\": \"Calle 3\", \"edad\": 19},\n",
    "]\n",
    "\n",
    "direcciones, edades = transformar_alumnos(alumnos)\n",
    "print(\"Nombres y Direcciones:\", direcciones)\n",
    "print(\"Nombres y Edades:\", edades)\n"
   ]
  },
  {
   "cell_type": "code",
   "execution_count": 1,
   "metadata": {},
   "outputs": [
    {
     "name": "stdout",
     "output_type": "stream",
     "text": [
      "[1, 8, 27, 64, 125, 216, 343, 512]\n"
     ]
    }
   ],
   "source": [
    "numeros = [1, 2, 3, 4, 5, 6, 7, 8]\n",
    "cubos = list(map(lambda x: x ** 3, numeros))\n",
    "print(cubos)  # [1, 8, 27, 64, 125, 216, 343, 512]\n"
   ]
  }
 ],
 "metadata": {
  "kernelspec": {
   "display_name": "Python 3 (ipykernel)",
   "language": "python",
   "name": "python3"
  },
  "language_info": {
   "codemirror_mode": {
    "name": "ipython",
    "version": 3
   },
   "file_extension": ".py",
   "mimetype": "text/x-python",
   "name": "python",
   "nbconvert_exporter": "python",
   "pygments_lexer": "ipython3",
   "version": "3.10.11"
  }
 },
 "nbformat": 4,
 "nbformat_minor": 2
}
