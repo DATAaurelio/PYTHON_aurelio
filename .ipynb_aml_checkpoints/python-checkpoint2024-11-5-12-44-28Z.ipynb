{
 "cells": [
  {
   "cell_type": "code",
   "execution_count": 1,
   "metadata": {},
   "outputs": [
    {
     "name": "stdout",
     "output_type": "stream",
     "text": [
      "Hola mundo!\n"
     ]
    }
   ],
   "source": [
    "print(\"Hola mundo!\")"
   ]
  },
  {
   "cell_type": "code",
   "execution_count": 2,
   "metadata": {},
   "outputs": [
    {
     "name": "stdout",
     "output_type": "stream",
     "text": [
      "(3+2j)\n"
     ]
    }
   ],
   "source": [
    "comp = 3 + 2j\n",
    "type(comp)\n",
    "print(comp)"
   ]
  },
  {
   "cell_type": "code",
   "execution_count": 3,
   "metadata": {},
   "outputs": [
    {
     "name": "stdout",
     "output_type": "stream",
     "text": [
      "La suma de la cuenta es: 16.6\n"
     ]
    }
   ],
   "source": [
    "x = 5.7\n",
    "y = 10.9\n",
    "suma = x + y\n",
    "print(\"La suma de la cuenta es:\", suma)"
   ]
  },
  {
   "cell_type": "code",
   "execution_count": 4,
   "metadata": {},
   "outputs": [
    {
     "name": "stdout",
     "output_type": "stream",
     "text": [
      "Lo que el usuario escribe es: \n"
     ]
    }
   ],
   "source": [
    "entrada=input(\"Escribe algo\")\n",
    "print(\"Lo que el usuario escribe es:\", entrada)"
   ]
  },
  {
   "cell_type": "code",
   "execution_count": 5,
   "metadata": {},
   "outputs": [
    {
     "name": "stdout",
     "output_type": "stream",
     "text": [
      "8 0\n"
     ]
    }
   ],
   "source": [
    "m = 5\n",
    "x = 1\n",
    "n = 3\n",
    "y = (m*x) + n\n",
    "t = m^4 + n^2\n",
    "print(y,t)"
   ]
  },
  {
   "cell_type": "code",
   "execution_count": 6,
   "metadata": {},
   "outputs": [
    {
     "name": "stdout",
     "output_type": "stream",
     "text": [
      "[0, 1, 2, 3, 'verdadero', True]\n",
      "verdadero\n"
     ]
    }
   ],
   "source": [
    "cajondesastre = [0,1,2,3,\"verdadero\",True]\n",
    "print(cajondesastre)\n",
    "print(cajondesastre[4])"
   ]
  },
  {
   "cell_type": "code",
   "execution_count": 7,
   "metadata": {},
   "outputs": [
    {
     "name": "stdout",
     "output_type": "stream",
     "text": [
      "{'clave': 'valor', 'numero': '3'}\n"
     ]
    },
    {
     "data": {
      "text/plain": [
       "'3'"
      ]
     },
     "execution_count": 7,
     "metadata": {},
     "output_type": "execute_result"
    }
   ],
   "source": [
    "undiccionario={\"clave\":\"valor\",\"numero\":\"3\"}\n",
    "print(undiccionario)\n",
    "type(undiccionario)\n",
    "undiccionario[\"numero\"]"
   ]
  },
  {
   "cell_type": "code",
   "execution_count": 8,
   "metadata": {},
   "outputs": [
    {
     "name": "stdout",
     "output_type": "stream",
     "text": [
      "('perro', 'gato', 'pajaro')\n"
     ]
    }
   ],
   "source": [
    "mascotas=(\"perro\",\"gato\",\"pajaro\")\n",
    "print(mascotas)"
   ]
  },
  {
   "cell_type": "code",
   "execution_count": 9,
   "metadata": {},
   "outputs": [
    {
     "name": "stdout",
     "output_type": "stream",
     "text": [
      "{'perro': '1', 'gato': '2', 'pajaro': '3'}\n"
     ]
    },
    {
     "data": {
      "text/plain": [
       "'1'"
      ]
     },
     "execution_count": 9,
     "metadata": {},
     "output_type": "execute_result"
    }
   ],
   "source": [
    "mascotas={\"perro\":\"1\",\"gato\":\"2\",\"pajaro\":\"3\"}\n",
    "print(mascotas)\n",
    "type(mascotas)\n",
    "mascotas[\"perro\"]"
   ]
  },
  {
   "cell_type": "code",
   "execution_count": 10,
   "metadata": {},
   "outputs": [
    {
     "name": "stdout",
     "output_type": "stream",
     "text": [
      "[{'nombre': 'mike', 'tipo': 'perro', 'edad': 5, 'peso': 10}, {'nombre': 'guty', 'tipo': 'narval', 'edad': 10, 'peso': 100}]\n"
     ]
    }
   ],
   "source": [
    "mike={\"nombre\":\"mike\",\"tipo\":\"perro\",\"edad\":5,\"peso\":10}\n",
    "narval={\"nombre\":\"guty\",\"tipo\":\"narval\",\"edad\":10,\"peso\":100}\n",
    "\n",
    "\n",
    "veterinaria = [mike,narval]\n",
    "print(veterinaria)"
   ]
  },
  {
   "cell_type": "code",
   "execution_count": 2,
   "metadata": {},
   "outputs": [
    {
     "data": {
      "text/plain": [
       "{'Juan': 6, 'Ana': 5, 'Pedro': 9, 'Luisa': 10}"
      ]
     },
     "execution_count": 2,
     "metadata": {},
     "output_type": "execute_result"
    }
   ],
   "source": [
    "alumnos = ['Juan', 'Ana', 'Pedro', 'Luisa']\n",
    "notas = [6, 5, 9, 10]\n",
    "\n",
    "comb = list(zip(alumnos, notas))\n",
    "dict_alumnos = dict(comb)\n",
    "dict_alumnos\n"
   ]
  },
  {
   "cell_type": "code",
   "execution_count": 3,
   "metadata": {},
   "outputs": [
    {
     "data": {
      "text/plain": [
       "['Luisa', 'Pedro', 'Juan', 'Ana']"
      ]
     },
     "execution_count": 3,
     "metadata": {},
     "output_type": "execute_result"
    }
   ],
   "source": [
    "alumnos_ord = sorted(dict_alumnos, key=lambda s: s[2], reverse=True)\n",
    "alumnos_ord"
   ]
  },
  {
   "cell_type": "code",
   "execution_count": null,
   "metadata": {},
   "outputs": [
    {
     "name": "stdout",
     "output_type": "stream",
     "text": [
      "Es un 4!\n",
      "Hola está en la frase\n"
     ]
    }
   ],
   "source": [
    "n = 4\n",
    "if n <= 2 and n>1:\n",
    "    print('Estoy en el if')\n",
    "    print('si es <=2')\n",
    "if n ==4:\n",
    "    print('Es un 4!')\n",
    "\n",
    "elif n>5 and n<7:\n",
    "    print('Es mayor que 5')\n",
    "\n",
    "elif n>=7 and n<15:\n",
    "    print('Es mayor que 7')\n",
    "\n",
    "else:\n",
    "    print(\"Es mayor que 2\")\n",
    "\n",
    "\n",
    "n = n*2\n",
    "txt='Hola'\n",
    "\n",
    "if txt in 'Hola mundo':\n",
    "    print('Hola está en la frase')\n",
    "# ALT + SHIFT + F"
   ]
  },
  {
   "cell_type": "code",
   "execution_count": 24,
   "metadata": {},
   "outputs": [
    {
     "name": "stdout",
     "output_type": "stream",
     "text": [
      "a 1\n",
      "Menor que 3\n",
      "b 2\n",
      "No sigo en esta iteración!!\n",
      "c 3\n",
      "No sigo en esta iteración!!\n",
      "d 4\n",
      "No sigo en esta iteración!!\n",
      "z 0\n",
      "Menor que 3\n",
      "Salgo!!\n"
     ]
    }
   ],
   "source": [
    "l1 = [1,2,3,4]\n",
    "t1 = (5,6,7,8,9)\n",
    "s1 = {2,3,4,5,6}\n",
    "d1 = {'a':1,'b':2,'c':3,'d':4,'z':0}\n",
    "\n",
    "for key, val in d1.items():\n",
    "    print(key, val)\n",
    "\n",
    "    if val >1:\n",
    "        print('No sigo en esta iteración!!')\n",
    "        continue\n",
    "\n",
    "    if val > 2:\n",
    "        print('Mayor que 2')\n",
    "    else:\n",
    "        print('Menor que 3')\n",
    "\n",
    "    if val ==0:\n",
    "        print('Salgo!!')\n",
    "        break"
   ]
  },
  {
   "cell_type": "code",
   "execution_count": 45,
   "metadata": {},
   "outputs": [
    {
     "name": "stdout",
     "output_type": "stream",
     "text": [
      "0\n",
      "Paro la máquina\n"
     ]
    }
   ],
   "source": [
    "contador = 0\n",
    "\n",
    "while contador < 101:\n",
    "    print(contador)\n",
    "    contador += 100 #contador = contador + 1\n",
    "    if contador >= 95:\n",
    "        print('Paro la máquina')\n",
    "        break\n",
    "    "
   ]
  },
  {
   "cell_type": "code",
   "execution_count": 49,
   "metadata": {},
   "outputs": [
    {
     "name": "stdout",
     "output_type": "stream",
     "text": [
      "1\n",
      "2\n",
      "3\n",
      "4\n",
      "5\n"
     ]
    }
   ],
   "source": [
    "l1 = [1,2,3,4,5]\n",
    "\n",
    "index = 0\n",
    "\n",
    "while index < len(l1):\n",
    "    print(l1[index])\n",
    "    index += 1"
   ]
  },
  {
   "cell_type": "code",
   "execution_count": 50,
   "metadata": {},
   "outputs": [
    {
     "name": "stdout",
     "output_type": "stream",
     "text": [
      "a 1\n",
      "Menor que 3\n",
      "b 2\n",
      "No sigo en esta iteración!!\n",
      "c 3\n",
      "No sigo en esta iteración!!\n",
      "d 4\n",
      "No sigo en esta iteración!!\n",
      "z 0\n",
      "Menor que 3\n",
      "Salgo!!\n"
     ]
    }
   ],
   "source": [
    "d1 = {'a':1,'b':2,'c':3,'d':4,'z':0}\n",
    "l1 = list(d1.items())\n",
    "\n",
    "idx = 0\n",
    "\n",
    "\n",
    "while idx < len(l1):\n",
    "    key, val = l1[idx]\n",
    "    idx += 1\n",
    "\n",
    "    print(key, val)\n",
    "\n",
    "    if val >1:\n",
    "        print('No sigo en esta iteración!!')\n",
    "        continue\n",
    "\n",
    "    if val > 2:\n",
    "        print('Mayor que 2')\n",
    "    else:\n",
    "        print('Menor que 3')\n",
    "\n",
    "    if val == 0:\n",
    "        print('Salgo!!')\n",
    "        break"
   ]
  },
  {
   "cell_type": "code",
   "execution_count": null,
   "metadata": {},
   "outputs": [],
   "source": [
    "opcion = 0\n",
    "\n",
    "#while opcion != 4:\n",
    "    try:\n",
    "        opcion = int(input('Escoge entre 1,2,3,4'))\n",
    "    except:\n",
    "        print('Debe ser un número')\n",
    "    if(opcion<0 or opcion>4):\n",
    "        print('debe ser 1, 2, 3, 4')\n",
    "  "
   ]
  },
  {
   "cell_type": "code",
   "execution_count": 5,
   "metadata": {},
   "outputs": [
    {
     "name": "stdout",
     "output_type": "stream",
     "text": [
      "('a', 1)\n",
      "a\n",
      "1\n",
      "('b', 2)\n",
      "b\n",
      "2\n",
      "('c', 3)\n",
      "c\n",
      "3\n",
      "('d', 4)\n",
      "d\n",
      "4\n",
      "('z', 0)\n",
      "z\n",
      "0\n"
     ]
    }
   ],
   "source": [
    "d1 = {'a':1,'b':2,'c':3,'d':4,'z':0}\n",
    "l1 = list(d1.items())\n",
    "\n",
    "for fila in l1:\n",
    "    print(fila)\n",
    "\n",
    "    for col in fila:\n",
    "        print(col)"
   ]
  },
  {
   "cell_type": "code",
   "execution_count": 6,
   "metadata": {},
   "outputs": [
    {
     "data": {
      "text/plain": [
       "(('Max', 'Luna', 'Bella', 'Charlie'),\n",
       " {'Max': 'Perro', 'Luna': 'Gato', 'Bella': 'Conejo', 'Charlie': 'Hámster'},\n",
       " [{'nombre': 'Max', 'tipo': 'Perro', 'edad': 5, 'peso': 20.5},\n",
       "  {'nombre': 'Luna', 'tipo': 'Gato', 'edad': 3, 'peso': 4.3},\n",
       "  {'nombre': 'Bella', 'tipo': 'Conejo', 'edad': 2, 'peso': 2.1},\n",
       "  {'nombre': 'Charlie', 'tipo': 'Hámster', 'edad': 1, 'peso': 0.5}],\n",
       " {'Caninos': {'Max': {'edad': 5, 'peso': 20.5}},\n",
       "  'Felinos': {'Luna': {'edad': 3, 'peso': 4.3}},\n",
       "  'Pequeños mamíferos': {'Bella': {'edad': 2, 'peso': 2.1},\n",
       "   'Charlie': {'edad': 1, 'peso': 0.5}}})"
      ]
     },
     "execution_count": 6,
     "metadata": {},
     "output_type": "execute_result"
    }
   ],
   "source": [
    "# Definición de una tupla con nombres de mascotas\n",
    "nombres_mascotas = (\"Max\", \"Luna\", \"Bella\", \"Charlie\")\n",
    "\n",
    "# Definición de un diccionario con el nombre y tipo de animal\n",
    "mascotas = {\n",
    "    \"Max\": \"Perro\",\n",
    "    \"Luna\": \"Gato\",\n",
    "    \"Bella\": \"Conejo\",\n",
    "    \"Charlie\": \"Hámster\"\n",
    "}\n",
    "\n",
    "# Definición de una lista de mascotas con nombre, tipo, edad y peso\n",
    "lista_mascotas = [\n",
    "    {\"nombre\": \"Max\", \"tipo\": \"Perro\", \"edad\": 5, \"peso\": 20.5},\n",
    "    {\"nombre\": \"Luna\", \"tipo\": \"Gato\", \"edad\": 3, \"peso\": 4.3},\n",
    "    {\"nombre\": \"Bella\", \"tipo\": \"Conejo\", \"edad\": 2, \"peso\": 2.1},\n",
    "    {\"nombre\": \"Charlie\", \"tipo\": \"Hámster\", \"edad\": 1, \"peso\": 0.5}\n",
    "]\n",
    "\n",
    "# Definición de un conjunto para representar secciones de la veterinaria\n",
    "secciones_veterinaria = {\n",
    "    \"Caninos\": {\"Max\": {\"edad\": 5, \"peso\": 20.5}},\n",
    "    \"Felinos\": {\"Luna\": {\"edad\": 3, \"peso\": 4.3}},\n",
    "    \"Pequeños mamíferos\": {\n",
    "        \"Bella\": {\"edad\": 2, \"peso\": 2.1},\n",
    "        \"Charlie\": {\"edad\": 1, \"peso\": 0.5}\n",
    "    }\n",
    "}\n",
    "\n",
    "nombres_mascotas, mascotas, lista_mascotas, secciones_veterinaria\n"
   ]
  },
  {
   "cell_type": "code",
   "execution_count": 7,
   "metadata": {},
   "outputs": [
    {
     "data": {
      "text/plain": [
       "(7, 12, ('Riga', 9))"
      ]
     },
     "execution_count": 7,
     "metadata": {},
     "output_type": "execute_result"
    }
   ],
   "source": [
    "# Encuentra el mayor de tres números usando if-elif-else\n",
    "def mayor_de_tres(a, b, c):\n",
    "    if a > b and a > c:\n",
    "        return a\n",
    "    elif b > a and b > c:\n",
    "        return b\n",
    "    else:\n",
    "        return c\n",
    "\n",
    "# Extensión para una lista de números\n",
    "def mayor_de_lista(lista):\n",
    "    mayor = lista[0]\n",
    "    for numero in lista[1:]:\n",
    "        if numero > mayor:\n",
    "            mayor = numero\n",
    "    return mayor\n",
    "\n",
    "# Extensión para un diccionario\n",
    "def mayor_de_diccionario(diccionario):\n",
    "    mayor_valor = None\n",
    "    mayor_clave = None\n",
    "    for clave, valor in diccionario.items():\n",
    "        if mayor_valor is None or valor > mayor_valor:\n",
    "            mayor_valor = valor\n",
    "            mayor_clave = clave\n",
    "    return mayor_clave, mayor_valor\n",
    "\n",
    "# Ejemplos de uso\n",
    "mayor_tres_result = mayor_de_tres(3, 7, 5)\n",
    "mayor_lista_result = mayor_de_lista([3, 7, 5, 12, 6])\n",
    "mayor_diccionario_result = mayor_de_diccionario({'john': 4, 'Anna': 7, 'Peter': 1, 'Riga': 9})\n",
    "\n",
    "mayor_tres_result, mayor_lista_result, mayor_diccionario_result\n"
   ]
  },
  {
   "cell_type": "code",
   "execution_count": 8,
   "metadata": {},
   "outputs": [
    {
     "data": {
      "text/plain": [
       "7"
      ]
     },
     "execution_count": 8,
     "metadata": {},
     "output_type": "execute_result"
    }
   ],
   "source": [
    "# Encuentra el mayor de tres números usando if-elif-else\n",
    "def mayor_de_tres(a, b, c):\n",
    "    if a > b and a > c:\n",
    "        return a\n",
    "    elif b > a and b > c:\n",
    "        return b\n",
    "    else:\n",
    "        return c\n",
    "\n",
    "mayor_tres_result = mayor_de_tres(3, 7, 5)  \n",
    "mayor_tres_result\n"
   ]
  },
  {
   "cell_type": "code",
   "execution_count": 9,
   "metadata": {},
   "outputs": [
    {
     "data": {
      "text/plain": [
       "12"
      ]
     },
     "execution_count": 9,
     "metadata": {},
     "output_type": "execute_result"
    }
   ],
   "source": [
    "# Extensión para una lista de números\n",
    "def mayor_de_lista(lista):\n",
    "    mayor = lista[0]\n",
    "    for numero in lista[1:]:\n",
    "        if numero > mayor:\n",
    "            mayor = numero\n",
    "    return mayor\n",
    "\n",
    "mayor_lista_result = mayor_de_lista([3, 7, 5, 12, 6])\n",
    "mayor_lista_result"
   ]
  },
  {
   "cell_type": "code",
   "execution_count": 10,
   "metadata": {},
   "outputs": [
    {
     "data": {
      "text/plain": [
       "('Riga', 9)"
      ]
     },
     "execution_count": 10,
     "metadata": {},
     "output_type": "execute_result"
    }
   ],
   "source": [
    "# Extensión para un diccionario\n",
    "def mayor_de_diccionario(diccionario):\n",
    "    mayor_valor = None\n",
    "    mayor_clave = None\n",
    "    for clave, valor in diccionario.items():\n",
    "        if mayor_valor is None or valor > mayor_valor:\n",
    "            mayor_valor = valor\n",
    "            mayor_clave = clave\n",
    "    return mayor_clave, mayor_valor\n",
    "\n",
    "mayor_diccionario_result = mayor_de_diccionario({'john': 4, 'Anna': 7, 'Peter': 1, 'Riga': 9})\n",
    "mayor_diccionario_result"
   ]
  },
  {
   "cell_type": "code",
   "execution_count": 11,
   "metadata": {},
   "outputs": [
    {
     "data": {
      "text/plain": [
       "(True, 1600, 9, 5, 2)"
      ]
     },
     "execution_count": 11,
     "metadata": {},
     "output_type": "execute_result"
    }
   ],
   "source": [
    "# Programa 1: Comprobar si un número está en una lista\n",
    "def esta_en_lista(lista, numero):\n",
    "    return numero in lista\n",
    "\n",
    "# Programa 2: Calcular el sueldo mensual de un operario\n",
    "def calcular_sueldo(horas_trabajadas, valor_por_hora):\n",
    "    return horas_trabajadas * valor_por_hora\n",
    "\n",
    "# Programa 3: Encontrar el mayor de N números ingresados por el usuario\n",
    "def mayor_de_numeros(numeros):\n",
    "    numeros_lista = [int(x) for x in numeros.split(\",\")]\n",
    "    return max(numeros_lista)\n",
    "\n",
    "# Programa 4: Contar valores únicos en una lista\n",
    "def contar_valores_unicos(lista):\n",
    "    return len(set(lista))\n",
    "\n",
    "# Programa 5: Mostrar el valor de la segunda clave en un diccionario\n",
    "def valor_segunda_clave(diccionario):\n",
    "    claves = list(diccionario.keys())\n",
    "    if len(claves) > 1:\n",
    "        return diccionario[claves[1]]\n",
    "    else:\n",
    "        return None\n",
    "\n",
    "# Ejemplos\n",
    "# Ejemplo para el primer programa\n",
    "lista_ejemplo = [1, 2, 3, 4, 5]\n",
    "numero_ejemplo = 3\n",
    "resultado_1 = esta_en_lista(lista_ejemplo, numero_ejemplo)\n",
    "\n",
    "# Ejemplo para el segundo programa\n",
    "horas = 160  # Ejemplo de horas trabajadas\n",
    "valor_hora = 10  # Ejemplo de valor por hora\n",
    "resultado_2 = calcular_sueldo(horas, valor_hora)\n",
    "\n",
    "# Ejemplo para el tercer programa\n",
    "numeros = \"3,7,1,9,5\"\n",
    "resultado_3 = mayor_de_numeros(numeros)\n",
    "\n",
    "# Ejemplo para el cuarto programa\n",
    "lista_ejemplo_unicos = [1, 2, 3, 2, 4, 1, 5]\n",
    "resultado_4 = contar_valores_unicos(lista_ejemplo_unicos)\n",
    "\n",
    "# Ejemplo para el quinto programa\n",
    "diccionario_ejemplo = {'a': 1, 'b': 2, 'c': 3}\n",
    "resultado_5 = valor_segunda_clave(diccionario_ejemplo)\n",
    "\n",
    "resultado_1, resultado_2, resultado_3, resultado_4, resultado_5\n"
   ]
  },
  {
   "cell_type": "code",
   "execution_count": 12,
   "metadata": {},
   "outputs": [
    {
     "data": {
      "text/plain": [
       "({'Juan': 85, 'María': 92, 'Luis': 78, 'Ana': 88, 'Pedro': 90},\n",
       " [('María', 92), ('Pedro', 90), ('Ana', 88), ('Juan', 85), ('Luis', 78)])"
      ]
     },
     "execution_count": 12,
     "metadata": {},
     "output_type": "execute_result"
    }
   ],
   "source": [
    "# Lista de nombres de alumnos y sus respectivas notas\n",
    "nombres_alumnos = [\"Juan\", \"María\", \"Luis\", \"Ana\", \"Pedro\"]\n",
    "notas_alumnos = [85, 92, 78, 88, 90]\n",
    "\n",
    "# Generar un diccionario que asocie cada alumno con su nota\n",
    "diccionario_alumnos = {nombre: nota for nombre, nota in zip(nombres_alumnos, notas_alumnos)}\n",
    "\n",
    "# Generar una lista de alumnos ordenados por notas descendentes\n",
    "alumnos_ordenados = sorted(diccionario_alumnos.items(), key=lambda item: item[1], reverse=True)\n",
    "\n",
    "diccionario_alumnos, alumnos_ordenados\n"
   ]
  },
  {
   "cell_type": "code",
   "execution_count": 15,
   "metadata": {},
   "outputs": [
    {
     "name": "stdout",
     "output_type": "stream",
     "text": [
      "9\n"
     ]
    }
   ],
   "source": [
    "nums = [1,2,3,4,5,9]\n",
    "\n",
    "mayor = 0\n",
    "\n",
    "for num in nums:\n",
    "    if(num>mayor):\n",
    "        mayor=num\n",
    "print(mayor)"
   ]
  },
  {
   "cell_type": "code",
   "execution_count": null,
   "metadata": {},
   "outputs": [],
   "source": [
    "d1 = {'a':1,'b':2,'c':3,'d':4,'z':0}\n",
    "\n",
    "mayor = 0\n",
    "\n",
    "for key, val in d1.items():\n",
    "    if(val)"
   ]
  },
  {
   "cell_type": "code",
   "execution_count": null,
   "metadata": {},
   "outputs": [],
   "source": []
  },
  {
   "cell_type": "code",
   "execution_count": null,
   "metadata": {},
   "outputs": [
    {
     "name": "stdout",
     "output_type": "stream",
     "text": [
      "Bienvenido a la Fiesta VIP de John. Introduzca el número de documento:\n",
      "PERMITIDO ENTRAR.\n",
      "Personas restantes por entrar: 4\n",
      "NO PERMITIDO.\n"
     ]
    }
   ],
   "source": [
    "# Lista de DNIs aprobados\n",
    "dnis_aprobados = [12345678, 87654321, 11223344, 44332211, 56789012]\n",
    "\n",
    "# Función para gestionar el ingreso a la fiesta\n",
    "def fiesta_vip(dnis_aprobados):\n",
    "    pendientes = set(dnis_aprobados)  # Conjunto de DNIs pendientes de ingreso\n",
    "    print(\"Bienvenido a la Fiesta VIP de John. Introduzca el número de documento:\")\n",
    "    \n",
    "    while pendientes:\n",
    "        try:\n",
    "            dni = int(input(\"DNI: \"))\n",
    "            if dni in pendientes:\n",
    "                print(\"PERMITIDO ENTRAR.\")\n",
    "                pendientes.remove(dni)\n",
    "                print(f\"Personas restantes por entrar: {len(pendientes)}\")\n",
    "            else:\n",
    "                print(\"NO PERMITIDO.\")\n",
    "        except ValueError:\n",
    "            print(\"Por favor, introduzca un número válido.\")\n",
    "    \n",
    "    print(\"COMPLETADO. Todos los invitados han entrado.\")\n",
    "\n",
    "# Ejecutar la función\n",
    "fiesta_vip(dnis_aprobados)\n"
   ]
  },
  {
   "cell_type": "code",
   "execution_count": null,
   "metadata": {},
   "outputs": [
    {
     "name": "stdout",
     "output_type": "stream",
     "text": [
      "\n",
      "Opciones:\n",
      "1. Completar la nota media de cada alumno por asignatura\n",
      "2. Obtener la media global por asignatura\n",
      "3. Obtener la media global por alumno\n",
      "4. Obtener la media global de todos los alumnos\n",
      "5. Obtener la nota media de un alumno determinado\n",
      "6. Obtener alumnos con nota media >= un número dado\n",
      "7. Salir\n",
      "Opción no válida. Intente de nuevo.\n",
      "\n",
      "Opciones:\n",
      "1. Completar la nota media de cada alumno por asignatura\n",
      "2. Obtener la media global por asignatura\n",
      "3. Obtener la media global por alumno\n",
      "4. Obtener la media global de todos los alumnos\n",
      "5. Obtener la nota media de un alumno determinado\n",
      "6. Obtener alumnos con nota media >= un número dado\n",
      "7. Salir\n",
      "Media de Juan: 7.5\n",
      "\n",
      "Opciones:\n",
      "1. Completar la nota media de cada alumno por asignatura\n",
      "2. Obtener la media global por asignatura\n",
      "3. Obtener la media global por alumno\n",
      "4. Obtener la media global de todos los alumnos\n",
      "5. Obtener la nota media de un alumno determinado\n",
      "6. Obtener alumnos con nota media >= un número dado\n",
      "7. Salir\n",
      "Opción no válida. Intente de nuevo.\n",
      "\n",
      "Opciones:\n",
      "1. Completar la nota media de cada alumno por asignatura\n",
      "2. Obtener la media global por asignatura\n",
      "3. Obtener la media global por alumno\n",
      "4. Obtener la media global de todos los alumnos\n",
      "5. Obtener la nota media de un alumno determinado\n",
      "6. Obtener alumnos con nota media >= un número dado\n",
      "7. Salir\n",
      "Opción no válida. Intente de nuevo.\n",
      "\n",
      "Opciones:\n",
      "1. Completar la nota media de cada alumno por asignatura\n",
      "2. Obtener la media global por asignatura\n",
      "3. Obtener la media global por alumno\n",
      "4. Obtener la media global de todos los alumnos\n",
      "5. Obtener la nota media de un alumno determinado\n",
      "6. Obtener alumnos con nota media >= un número dado\n",
      "7. Salir\n"
     ]
    }
   ],
   "source": [
    "# Lista de alumnos con sus asignaturas y notas (nota más alta, nota más baja)\n",
    "alumnos = [\n",
    "    {\"nombre\": \"Juan\", \"asignaturas\": {\"Matemáticas\": [8, 6], \"Historia\": [9, 7]}},\n",
    "    {\"nombre\": \"María\", \"asignaturas\": {\"Matemáticas\": [7, 5], \"Historia\": [8, 6]}},\n",
    "    {\"nombre\": \"Luis\", \"asignaturas\": {\"Matemáticas\": [6, 4], \"Historia\": [7, 5]}}\n",
    "]\n",
    "\n",
    "def completar_nota_media(alumnos):\n",
    "    for alumno in alumnos:\n",
    "        for asignatura, notas in alumno[\"asignaturas\"].items():\n",
    "            media = sum(notas) / len(notas)\n",
    "            alumno[\"asignaturas\"][asignatura].append(media)\n",
    "\n",
    "def obtener_media_global_por_asignatura(alumnos):\n",
    "    asignaturas_totales = {}\n",
    "    for alumno in alumnos:\n",
    "        for asignatura, notas in alumno[\"asignaturas\"].items():\n",
    "            if asignatura not in asignaturas_totales:\n",
    "                asignaturas_totales[asignatura] = []\n",
    "            asignaturas_totales[asignatura].append(notas[-1])\n",
    "    medias_asignaturas = {asignatura: sum(notas) / len(notas) for asignatura, notas in asignaturas_totales.items()}\n",
    "    return medias_asignaturas\n",
    "\n",
    "def obtener_media_global_por_alumno(alumnos):\n",
    "    medias_alumnos = {}\n",
    "    for alumno in alumnos:\n",
    "        total = 0\n",
    "        num_asignaturas = 0\n",
    "        for asignatura, notas in alumno[\"asignaturas\"].items():\n",
    "            total += notas[-1]\n",
    "            num_asignaturas += 1\n",
    "        medias_alumnos[alumno[\"nombre\"]] = total / num_asignaturas\n",
    "    return medias_alumnos\n",
    "\n",
    "def obtener_media_global_todos(alumnos):\n",
    "    total = 0\n",
    "    contador = 0\n",
    "    for alumno in alumnos:\n",
    "        for asignatura, notas in alumno[\"asignaturas\"].items():\n",
    "            total += notas[-1]\n",
    "            contador += 1\n",
    "    return total / contador\n",
    "\n",
    "def obtener_media_por_alumno(alumnos, nombre_alumno):\n",
    "    for alumno in alumnos:\n",
    "        if alumno[\"nombre\"] == nombre_alumno:\n",
    "            total = sum(notas[-1] for notas in alumno[\"asignaturas\"].values())\n",
    "            return total / len(alumno[\"asignaturas\"])\n",
    "    return None\n",
    "\n",
    "def obtener_alumnos_con_media_superior(alumnos, limite):\n",
    "    resultados = []\n",
    "    for alumno in alumnos:\n",
    "        media = sum(notas[-1] for notas in alumno[\"asignaturas\"].values()) / len(alumno[\"asignaturas\"])\n",
    "        if media >= limite:\n",
    "            resultados.append(alumno[\"nombre\"])\n",
    "    return resultados\n",
    "\n",
    "def programa_estadisticas():\n",
    "    completar_nota_media(alumnos)\n",
    "    while True:\n",
    "        print(\"\\nOpciones:\")\n",
    "        print(\"1. Completar la nota media de cada alumno por asignatura\")\n",
    "        print(\"2. Obtener la media global por asignatura\")\n",
    "        print(\"3. Obtener la media global por alumno\")\n",
    "        print(\"4. Obtener la media global de todos los alumnos\")\n",
    "        print(\"5. Obtener la nota media de un alumno determinado\")\n",
    "        print(\"6. Obtener alumnos con nota media >= un número dado\")\n",
    "        print(\"7. Salir\")\n",
    "        opcion = input(\"Seleccione una opción: \")\n",
    "        \n",
    "        if opcion == \"1\":\n",
    "            completar_nota_media(alumnos)\n",
    "            print(\"Notas medias calculadas y actualizadas.\")\n",
    "        elif opcion == \"2\":\n",
    "            medias_asignaturas = obtener_media_global_por_asignatura(alumnos)\n",
    "            print(\"Media global por asignatura:\", medias_asignaturas)\n",
    "        elif opcion == \"3\":\n",
    "            medias_alumnos = obtener_media_global_por_alumno(alumnos)\n",
    "            print(\"Media global por alumno:\", medias_alumnos)\n",
    "        elif opcion == \"4\":\n",
    "            media_global = obtener_media_global_todos(alumnos)\n",
    "            print(\"Media global de todos los alumnos:\", media_global)\n",
    "        elif opcion == \"5\":\n",
    "            nombre = input(\"Ingrese el nombre del alumno: \")\n",
    "            media_alumno = obtener_media_por_alumno(alumnos, nombre)\n",
    "            if media_alumno is not None:\n",
    "                print(f\"Media de {nombre}: {media_alumno}\")\n",
    "            else:\n",
    "                print(f\"Alumno {nombre} no encontrado.\")\n",
    "        elif opcion == \"6\":\n",
    "            limite = float(input(\"Ingrese el límite mínimo de la nota media: \"))\n",
    "            alumnos_superiores = obtener_alumnos_con_media_superior(alumnos, limite)\n",
    "            print(\"Alumnos con nota media superior o igual a\", limite, \":\", alumnos_superiores)\n",
    "        elif opcion == \"7\":\n",
    "            print(\"Saliendo del programa...\")\n",
    "            break\n",
    "        else:\n",
    "            print(\"Opción no válida. Intente de nuevo.\")\n",
    "\n",
    "# Ejecutar el programa interactivo\n",
    "programa_estadisticas()\n"
   ]
  }
 ],
 "metadata": {
  "kernelspec": {
   "display_name": "Python 3",
   "language": "python",
   "name": "python3"
  },
  "language_info": {
   "codemirror_mode": {
    "name": "ipython",
    "version": 3
   },
   "file_extension": ".py",
   "mimetype": "text/x-python",
   "name": "python",
   "nbconvert_exporter": "python",
   "pygments_lexer": "ipython3",
   "version": "3.9.5"
  }
 },
 "nbformat": 4,
 "nbformat_minor": 2
}
