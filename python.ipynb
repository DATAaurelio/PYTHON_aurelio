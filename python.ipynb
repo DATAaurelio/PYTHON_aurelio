{
 "cells": [
  {
   "cell_type": "code",
   "execution_count": 1,
   "metadata": {},
   "outputs": [
    {
     "name": "stdout",
     "output_type": "stream",
     "text": [
      "Hola mundo!\n"
     ]
    }
   ],
   "source": [
    "print(\"Hola mundo!\")"
   ]
  },
  {
   "cell_type": "code",
   "execution_count": 2,
   "metadata": {},
   "outputs": [
    {
     "name": "stdout",
     "output_type": "stream",
     "text": [
      "(3+2j)\n"
     ]
    }
   ],
   "source": [
    "comp = 3 + 2j\n",
    "type(comp)\n",
    "print(comp)"
   ]
  },
  {
   "cell_type": "code",
   "execution_count": 7,
   "metadata": {},
   "outputs": [
    {
     "name": "stdout",
     "output_type": "stream",
     "text": [
      "La suma de la cuenta es: 16.6\n"
     ]
    }
   ],
   "source": [
    "x = 5.7\n",
    "y = 10.9\n",
    "suma = x + y\n",
    "print(\"La suma de la cuenta es:\", suma)"
   ]
  },
  {
   "cell_type": "code",
   "execution_count": 12,
   "metadata": {},
   "outputs": [
    {
     "name": "stdout",
     "output_type": "stream",
     "text": [
      "Lo que el usuario escribe es: Noventa\n"
     ]
    }
   ],
   "source": [
    "entrada=input(\"Escribe algo\")\n",
    "print(\"Lo que el usuario escribe es:\", entrada)"
   ]
  },
  {
   "cell_type": "code",
   "execution_count": 15,
   "metadata": {},
   "outputs": [
    {
     "name": "stdout",
     "output_type": "stream",
     "text": [
      "8 0\n"
     ]
    }
   ],
   "source": [
    "m = 5\n",
    "x = 1\n",
    "n = 3\n",
    "y = (m*x) + n\n",
    "t = m^4 + n^2\n",
    "print(y,t)"
   ]
  },
  {
   "cell_type": "code",
   "execution_count": 28,
   "metadata": {},
   "outputs": [
    {
     "name": "stdout",
     "output_type": "stream",
     "text": [
      "[0, 1, 2, 3, 'verdadero', True]\n",
      "verdadero\n"
     ]
    }
   ],
   "source": [
    "cajondesastre = [0,1,2,3,\"verdadero\",True]\n",
    "print(cajondesastre)\n",
    "print(cajondesastre[4])"
   ]
  },
  {
   "cell_type": "code",
   "execution_count": 33,
   "metadata": {},
   "outputs": [
    {
     "name": "stdout",
     "output_type": "stream",
     "text": [
      "{'clave': 'valor', 'numero': '3'}\n"
     ]
    },
    {
     "data": {
      "text/plain": [
       "'3'"
      ]
     },
     "execution_count": 33,
     "metadata": {},
     "output_type": "execute_result"
    }
   ],
   "source": [
    "undiccionario={\"clave\":\"valor\",\"numero\":\"3\"}\n",
    "print(undiccionario)\n",
    "type(undiccionario)\n",
    "undiccionario[\"numero\"]"
   ]
  },
  {
   "cell_type": "code",
   "execution_count": 35,
   "metadata": {},
   "outputs": [
    {
     "name": "stdout",
     "output_type": "stream",
     "text": [
      "('perro', 'gato', 'pajaro')\n"
     ]
    }
   ],
   "source": [
    "mascotas=(\"perro\",\"gato\",\"pajaro\")\n",
    "print(mascotas)"
   ]
  },
  {
   "cell_type": "code",
   "execution_count": 42,
   "metadata": {},
   "outputs": [
    {
     "name": "stdout",
     "output_type": "stream",
     "text": [
      "{'perro': '1', 'gato': '2', 'pajaro': '3'}\n"
     ]
    },
    {
     "data": {
      "text/plain": [
       "'1'"
      ]
     },
     "execution_count": 42,
     "metadata": {},
     "output_type": "execute_result"
    }
   ],
   "source": [
    "mascotas={\"perro\":\"1\",\"gato\":\"2\",\"pajaro\":\"3\"}\n",
    "print(mascotas)\n",
    "type(mascotas)\n",
    "mascotas[\"perro\"]"
   ]
  },
  {
   "cell_type": "code",
   "execution_count": 55,
   "metadata": {},
   "outputs": [
    {
     "name": "stdout",
     "output_type": "stream",
     "text": [
      "[{'nombre': 'mike', 'tipo': 'perro', 'edad': 5, 'peso': 10}, {'nombre': 'guty', 'tipo': 'narval', 'edad': 10, 'peso': 100}]\n"
     ]
    }
   ],
   "source": [
    "mike={\"nombre\":\"mike\",\"tipo\":\"perro\",\"edad\":5,\"peso\":10}\n",
    "narval={\"nombre\":\"guty\",\"tipo\":\"narval\",\"edad\":10,\"peso\":100}\n",
    "\n",
    "\n",
    "veterinaria = [mike,narval]\n",
    "print(veterinaria)"
   ]
  }
 ],
 "metadata": {
  "kernelspec": {
   "display_name": "Python 3 (ipykernel)",
   "language": "python",
   "name": "python3"
  },
  "language_info": {
   "codemirror_mode": {
    "name": "ipython",
    "version": 3
   },
   "file_extension": ".py",
   "mimetype": "text/x-python",
   "name": "python",
   "nbconvert_exporter": "python",
   "pygments_lexer": "ipython3",
   "version": "3.10.11"
  }
 },
 "nbformat": 4,
 "nbformat_minor": 2
}
